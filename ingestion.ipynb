{
 "cells": [
  {
   "cell_type": "code",
   "execution_count": 27,
   "metadata": {},
   "outputs": [],
   "source": [
    "# !pip install python-dotenv\n",
    "# !dotenv --version"
   ]
  },
  {
   "cell_type": "code",
   "execution_count": 1,
   "metadata": {},
   "outputs": [
    {
     "data": {
      "text/plain": [
       "True"
      ]
     },
     "execution_count": 1,
     "metadata": {},
     "output_type": "execute_result"
    }
   ],
   "source": [
    "import os\n",
    "import subprocess\n",
    "from dotenv import load_dotenv\n",
    "\n",
    "load_dotenv()"
   ]
  },
  {
   "cell_type": "code",
   "execution_count": 2,
   "metadata": {},
   "outputs": [],
   "source": [
    "# Initialise Atlas Connection String and Password\n",
    "atlas_connection_string = os.getenv('ATLAS_CONNECTION_STRING')\n",
    "atlas_cluster_password = os.getenv('ATLAS_CLUSTER_PASSWORD')\n",
    "database_name = os.getenv('ATLAS_DATABASE_NAME')\n",
    "collection_name = os.getenv('ATLAS_COLLECTION_NAME')"
   ]
  },
  {
   "cell_type": "code",
   "execution_count": 3,
   "metadata": {},
   "outputs": [],
   "source": [
    "updated_connection_string = atlas_connection_string.replace(\"<password>\", atlas_cluster_password)"
   ]
  },
  {
   "cell_type": "code",
   "execution_count": 4,
   "metadata": {},
   "outputs": [],
   "source": [
    "directory = 'embedded-data'\n",
    "json_files = []\n",
    "for root, dirs, files in os.walk(directory):\n",
    "    for file in files:\n",
    "        if file.endswith('.json'):\n",
    "            json_files.append(os.path.join(root, file))"
   ]
  },
  {
   "cell_type": "code",
   "execution_count": 9,
   "metadata": {},
   "outputs": [
    {
     "name": "stdout",
     "output_type": "stream",
     "text": [
      "Command executed successfully for: embedded-data\\01-table-of-contents\\1.json\n",
      "Command executed successfully for: embedded-data\\02-editorial-introduction\\1.json\n",
      "Command executed successfully for: embedded-data\\02-editorial-introduction\\2.json\n",
      "Command executed successfully for: embedded-data\\03-preface-to-the-1872-german-edition\\1.json\n",
      "Command executed successfully for: embedded-data\\04-preface-to-the-1882-russian-edition\\1.json\n",
      "Command executed successfully for: embedded-data\\05-preface-to-the-1883-german-edition\\1.json\n",
      "Command executed successfully for: embedded-data\\06-preface-to-the-1888-english-edition\\1.json\n",
      "Command executed successfully for: embedded-data\\06-preface-to-the-1888-english-edition\\2.json\n",
      "Command executed successfully for: embedded-data\\06-preface-to-the-1888-english-edition\\3.json\n",
      "Command executed successfully for: embedded-data\\07-preface-to-the-1890-german-edition\\1.json\n",
      "Command executed successfully for: embedded-data\\07-preface-to-the-1890-german-edition\\2.json\n",
      "Command executed successfully for: embedded-data\\08-preface-to-the-1892-polish-edition\\1.json\n",
      "Command executed successfully for: embedded-data\\09-preface-to-the-1893-italian-edition\\1.json\n",
      "Command executed successfully for: embedded-data\\10-manifesto-of-the-communist-party\\1.json\n",
      "Command executed successfully for: embedded-data\\11-bourgeois-and-proletarians\\1.json\n",
      "Command executed successfully for: embedded-data\\11-bourgeois-and-proletarians\\2.json\n",
      "Command executed successfully for: embedded-data\\11-bourgeois-and-proletarians\\3.json\n",
      "Command executed successfully for: embedded-data\\11-bourgeois-and-proletarians\\4.json\n",
      "Command executed successfully for: embedded-data\\11-bourgeois-and-proletarians\\5.json\n",
      "Command executed successfully for: embedded-data\\11-bourgeois-and-proletarians\\6.json\n",
      "Command executed successfully for: embedded-data\\11-bourgeois-and-proletarians\\7.json\n",
      "Command executed successfully for: embedded-data\\12-proletarians-and-communists\\1.json\n",
      "Command executed successfully for: embedded-data\\12-proletarians-and-communists\\2.json\n",
      "Command executed successfully for: embedded-data\\12-proletarians-and-communists\\3.json\n",
      "Command executed successfully for: embedded-data\\12-proletarians-and-communists\\4.json\n",
      "Command executed successfully for: embedded-data\\12-proletarians-and-communists\\5.json\n",
      "Command executed successfully for: embedded-data\\12-proletarians-and-communists\\6.json\n",
      "Command executed successfully for: embedded-data\\13-socialist-and-communist-literature\\1.json\n",
      "Command executed successfully for: embedded-data\\13-socialist-and-communist-literature\\2.json\n",
      "Command executed successfully for: embedded-data\\13-socialist-and-communist-literature\\3.json\n",
      "Command executed successfully for: embedded-data\\13-socialist-and-communist-literature\\4.json\n",
      "Command executed successfully for: embedded-data\\13-socialist-and-communist-literature\\5.json\n",
      "Command executed successfully for: embedded-data\\13-socialist-and-communist-literature\\6.json\n",
      "Command executed successfully for: embedded-data\\14-position-of-the-communists-in-relation-to-the-various-existing-opposition-parties\\1.json\n",
      "Command executed successfully for: embedded-data\\15-letter-from-engels-to-marx-24-november-1847\\1.json\n",
      "Command executed successfully for: embedded-data\\16-draft-of-a-communist-confession-of-faith\\1.json\n",
      "Command executed successfully for: embedded-data\\16-draft-of-a-communist-confession-of-faith\\2.json\n",
      "Command executed successfully for: embedded-data\\16-draft-of-a-communist-confession-of-faith\\3.json\n",
      "Command executed successfully for: embedded-data\\16-draft-of-a-communist-confession-of-faith\\4.json\n",
      "Command executed successfully for: embedded-data\\16-draft-of-a-communist-confession-of-faith\\5.json\n",
      "Command executed successfully for: embedded-data\\17-the-principles-of-communism\\1.json\n",
      "Command executed successfully for: embedded-data\\17-the-principles-of-communism\\10.json\n",
      "Command executed successfully for: embedded-data\\17-the-principles-of-communism\\11.json\n",
      "Command executed successfully for: embedded-data\\17-the-principles-of-communism\\12.json\n",
      "Command executed successfully for: embedded-data\\17-the-principles-of-communism\\13.json\n",
      "Command executed successfully for: embedded-data\\17-the-principles-of-communism\\14.json\n",
      "Command executed successfully for: embedded-data\\17-the-principles-of-communism\\2.json\n",
      "Command executed successfully for: embedded-data\\17-the-principles-of-communism\\3.json\n",
      "Command executed successfully for: embedded-data\\17-the-principles-of-communism\\4.json\n",
      "Command executed successfully for: embedded-data\\17-the-principles-of-communism\\5.json\n",
      "Command executed successfully for: embedded-data\\17-the-principles-of-communism\\6.json\n",
      "Command executed successfully for: embedded-data\\17-the-principles-of-communism\\7.json\n",
      "Command executed successfully for: embedded-data\\17-the-principles-of-communism\\8.json\n",
      "Command executed successfully for: embedded-data\\17-the-principles-of-communism\\9.json\n",
      "Command executed successfully for: embedded-data\\18-demands-of-the-communist-party-in-germany\\1.json\n",
      "Command executed successfully for: embedded-data\\18-demands-of-the-communist-party-in-germany\\2.json\n",
      "Command executed successfully for: embedded-data\\18-demands-of-the-communist-party-in-germany\\3.json\n",
      "Command executed successfully for: embedded-data\\19-the-paris-commune\\1.json\n",
      "Command executed successfully for: embedded-data\\19-the-paris-commune\\2.json\n",
      "Command executed successfully for: embedded-data\\19-the-paris-commune\\3.json\n",
      "Command executed successfully for: embedded-data\\19-the-paris-commune\\4.json\n",
      "Command executed successfully for: embedded-data\\19-the-paris-commune\\5.json\n",
      "Command executed successfully for: embedded-data\\19-the-paris-commune\\6.json\n",
      "Command executed successfully for: embedded-data\\19-the-paris-commune\\7.json\n",
      "Command executed successfully for: embedded-data\\19-the-paris-commune\\8.json\n",
      "Command executed successfully for: embedded-data\\19-the-paris-commune\\9.json\n",
      "Command executed successfully for: embedded-data\\20-endnotes\\1.json\n",
      "Command executed successfully for: embedded-data\\20-endnotes\\2.json\n"
     ]
    }
   ],
   "source": [
    "for file in json_files:\n",
    "    current_working_directory = os.getcwd()\n",
    "    command = f\"mongoimport {updated_connection_string}{database_name} --collection {collection_name} {current_working_directory}\\\\{file} --jsonArray\"\n",
    "\n",
    "    # Execute the command\n",
    "    try:\n",
    "        result = subprocess.run([\"cmd\", \"/c\", command], shell=True, capture_output=True, text=True)\n",
    "        print(\"Command executed successfully for: {}\".format(file))\n",
    "    except subprocess.CalledProcessError as e:\n",
    "        print(\"Error occurred while executing the command.\")"
   ]
  },
  {
   "cell_type": "code",
   "execution_count": null,
   "metadata": {},
   "outputs": [],
   "source": []
  }
 ],
 "metadata": {
  "kernelspec": {
   "display_name": "venv",
   "language": "python",
   "name": "python3"
  },
  "language_info": {
   "codemirror_mode": {
    "name": "ipython",
    "version": 3
   },
   "file_extension": ".py",
   "mimetype": "text/x-python",
   "name": "python",
   "nbconvert_exporter": "python",
   "pygments_lexer": "ipython3",
   "version": "3.12.2"
  }
 },
 "nbformat": 4,
 "nbformat_minor": 2
}
