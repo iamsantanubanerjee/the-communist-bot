{
 "cells": [
  {
   "cell_type": "code",
   "execution_count": 1,
   "metadata": {},
   "outputs": [],
   "source": [
    "# !pip install pymongo langchain-groq"
   ]
  },
  {
   "cell_type": "code",
   "execution_count": 2,
   "metadata": {},
   "outputs": [
    {
     "name": "stderr",
     "output_type": "stream",
     "text": [
      "c:\\Users\\Santanu\\projects\\the-communist-bot\\venv\\Lib\\site-packages\\tqdm\\auto.py:21: TqdmWarning: IProgress not found. Please update jupyter and ipywidgets. See https://ipywidgets.readthedocs.io/en/stable/user_install.html\n",
      "  from .autonotebook import tqdm as notebook_tqdm\n"
     ]
    }
   ],
   "source": [
    "from pymongo import MongoClient\n",
    "import os\n",
    "\n",
    "from sentence_transformers import SentenceTransformer\n",
    "from langchain_core.prompts import (\n",
    "    ChatPromptTemplate,\n",
    "    FewShotChatMessagePromptTemplate,\n",
    ")"
   ]
  },
  {
   "cell_type": "code",
   "execution_count": 3,
   "metadata": {},
   "outputs": [],
   "source": [
    "atlas_connection_string = os.getenv('ATLAS_CONNECTION_STRING')\n",
    "atlas_cluster_password = os.getenv('ATLAS_CLUSTER_PASSWORD')\n",
    "MONGODB_ATLAS_CLUSTER_URI = atlas_connection_string.replace(\"<password>\", atlas_cluster_password)\n",
    "\n",
    "# initialize MongoDB python client\n",
    "client = MongoClient(MONGODB_ATLAS_CLUSTER_URI)"
   ]
  },
  {
   "cell_type": "code",
   "execution_count": 4,
   "metadata": {},
   "outputs": [],
   "source": [
    "DB_NAME = \"the-communist-bot\"\n",
    "COLLECTION_NAME = \"manifesto\"\n",
    "ATLAS_VECTOR_SEARCH_INDEX_NAME = \"communist-manifesto\"\n",
    "\n",
    "MONGODB_COLLECTION = client[DB_NAME][COLLECTION_NAME]"
   ]
  },
  {
   "cell_type": "code",
   "execution_count": 6,
   "metadata": {},
   "outputs": [
    {
     "data": {
      "text/plain": [
       "pymongo.collection.Collection"
      ]
     },
     "execution_count": 6,
     "metadata": {},
     "output_type": "execute_result"
    }
   ],
   "source": [
    "type(MONGODB_COLLECTION)"
   ]
  },
  {
   "cell_type": "code",
   "execution_count": 9,
   "metadata": {},
   "outputs": [],
   "source": [
    "def generate_embeddings(text: str) -> list[float]:\n",
    "    model = SentenceTransformer('sentence-transformers/all-MiniLM-L6-v2')\n",
    "    embeddings = model.encode(text)\n",
    "\n",
    "    return embeddings.tolist()"
   ]
  },
  {
   "cell_type": "code",
   "execution_count": 10,
   "metadata": {},
   "outputs": [],
   "source": [
    "def vector_search(user_query, collection):\n",
    "    \"\"\"\n",
    "    Perform a vector search in the MongoDB collection based on the user query.\n",
    "\n",
    "    Args:\n",
    "    user_query (str): The user's query string.\n",
    "    collection (MongoCollection): The MongoDB collection to search.\n",
    "\n",
    "    Returns:\n",
    "    list: A list of matching documents.\n",
    "    \"\"\"\n",
    "\n",
    "    # Generate embedding for the user query\n",
    "    query_embedding = generate_embeddings(user_query)\n",
    "\n",
    "    if query_embedding is None:\n",
    "        return \"Invalid query or embedding generation failed.\"\n",
    "\n",
    "    # Define the vector search pipeline\n",
    "    pipeline = [\n",
    "        {\n",
    "            \"$vectorSearch\": {\n",
    "                \"index\": \"communist-manifesto\",  # Search index name\n",
    "                \"queryVector\": query_embedding,  # Embedding representation of the use query\n",
    "                \"path\": \"embedding\",             # Document field containing the embeddings\n",
    "                \"numCandidates\": 150,            # Number of candidate matches to consider (Limits on the number of results to return)\n",
    "                \"limit\": 15,                      # Return top 2 matches\n",
    "            }\n",
    "        },\n",
    "        {\n",
    "            \"$project\": {\n",
    "                \"_id\": 0,                                 # Exclude the _id field\n",
    "                \"documentID\": 1,                          # Include the documentID field\n",
    "                # \"file_path\": 1,                           # Include the file_path field\n",
    "                # \"file_name\": 1,                           # Include the file_name field\n",
    "                # \"page_number\": 1,\n",
    "                \"content\": 1,\n",
    "                # \"embedding\": 1,\n",
    "                # \"score\": {\"$meta\": \"vectorSearchScore\"},  # Include the search score\n",
    "            }\n",
    "        },\n",
    "    ]\n",
    "\n",
    "    # Execute the search\n",
    "    results = collection.aggregate(pipeline)\n",
    "    print(type(results))\n",
    "    return list(results)"
   ]
  },
  {
   "cell_type": "code",
   "execution_count": 11,
   "metadata": {},
   "outputs": [
    {
     "name": "stderr",
     "output_type": "stream",
     "text": [
      "c:\\Users\\Santanu\\projects\\the-communist-bot\\venv\\Lib\\site-packages\\huggingface_hub\\file_download.py:1132: FutureWarning: `resume_download` is deprecated and will be removed in version 1.0.0. Downloads always resume when possible. If you want to force a new download, use `force_download=True`.\n",
      "  warnings.warn(\n"
     ]
    },
    {
     "name": "stdout",
     "output_type": "stream",
     "text": [
      "<class 'pymongo.command_cursor.CommandCursor'>\n"
     ]
    }
   ],
   "source": [
    "relevant_contexts = vector_search(\"Who are Proletarians?\", MONGODB_COLLECTION)"
   ]
  },
  {
   "cell_type": "code",
   "execution_count": 12,
   "metadata": {},
   "outputs": [
    {
     "data": {
      "text/plain": [
       "[{'documentID': '7d6d0282-eec7-4b73-9f13-3c20d97c233c',\n",
       "  'content': 'II. Proletarians and Communists \\nIn what relation do the Communists stand to the proletarians as a whole?  \\nThe Communists do not form a separate party opposed to the other working -class parties.  \\nThey have no interests separate and apart from those of  the proletariat as a whole.  \\nThey do not set up any sectarian principles of their own, by which to shape and mould the \\nproletarian movement.  \\nThe Communists are distinguished from the other working- class parties by this only: 1. In the \\nnational struggles of the proletarians of the different countries, they point out and bring to the \\nfront the common interests of the entire proletariat, independently of all nationality. 2. In the \\nvarious stages of development which the struggle of the working class against the bourgeoisie has \\nto pass through, they always and everywhere represent the interests of the movement as a whole.'},\n",
       " {'documentID': 'f93d0913-d16b-42c4-9373-8a6094e9f8f8',\n",
       "  'content': 'masters of the productive forces of society, except by abolishing their own previous mode of \\nappropriation, and thereby also every other previous mode of appro priation. They have nothing of \\ntheir own to secure and to fortify; their mission is to destroy all previous securities for, and insurances of, individual property.  \\nAll previous historical movements were movements of minorities, or in the interest of minor ities. \\nThe proletarian movement is the self -conscious, independent movement of the immense majority, \\nin the interest of the immense majority. The proletariat, the lowest stratum of our present society, \\ncannot stir, cannot raise itself up, without the whole  superincumbent strata of official society \\nbeing sprung into the air.  \\nThough not in substance, yet in form, the struggle of the proletariat with the bourgeoisie is at first \\na national struggle. The proletariat of each country must, of course, first of all  settle matters with \\nits own bourgeoisie.'},\n",
       " {'documentID': '04660687-8f11-48fe-a7db-875b52118dbb',\n",
       "  'content': 'proletarians, but also of small peasants and petty bourgeois who are in the process of falling into \\nthe proletariat, who are more and more dependent in all their political interests on the proletariat , \\nand who must, therefore, soon adapt to the demands of the proletariat. Perhaps this will cost a \\nsecond struggle, but the outcome can only be the victory of the proletariat.  \\nDemocracy would be wholly valueless to the proletariat if it were not immediately used as a means for putting through measures directed against private property and ensuring the livelihood \\nof the proletariat. The main measures, emerging as the necessary result of existing relations, are \\nthe following:  \\n(i) Limitation of private proper ty through progressive taxation, heavy inheritance \\ntaxes, abolition of inheritance through collateral lines (brothers, nephews, etc.) \\nforced loans, etc.  \\n(ii) Gradual expropriation of landowners, industrialists, railroad magnates and'},\n",
       " {'documentID': '3dac08f8-5d94-41ee-b313-a77a2e34fe4d',\n",
       "  'content': 'tool of reactionary intrigue.  \\nIn the condition of the proletariat, those of old society at large are already virtually swamped. The \\nproletarian is without prope rty; his relation to his wife and children has no longer anything in \\ncommon with the bourgeois family relations; modern industry labour, modern subjection to \\ncapital, the same in England as in France, in America as in Germany, has stripped him of every \\ntrace of national character. Law, morality, religion, are to him so many bourgeois prejudices, \\nbehind which lurk in ambush just as many bourgeois interests.  \\nAll the preceding classes that got the upper hand sought to fortify their already acquired status by \\nsubjecting society at large to their conditions of appropriation. The proletarians cannot become \\nmasters of the productive forces of society, except by abolishing their own previous mode of \\nappropriation, and thereby also every other previous mode of appro priation. They have nothing of'},\n",
       " {'documentID': 'd381adfb-d0b6-46ef-8e00-1c44c90ac14b',\n",
       "  'content': 'woe, whose life and death, therefore, depend on the alternation of times of good \\nand bad business;. in a word, on the fluctuations of competition.  \\nQuestion 8 : Then there have not always been proletarians?  \\nAnswer : No. There have always been poor  and working classes; and those who \\nworked were almost always the poor. But there have not always been proletarians, \\njust as competition has not always been free.  \\nQuestion 9 : How did the proletariat arise?  \\nAnswer : The proletariat came into being as a result of the introduction of the \\nmachines which have been invented since the middle of the last century and the \\nmost important of which are: the steam -engine, the s pinning machine and the \\npower loom. These machines, which were very expensive and could therefore \\nonly be purchased by rich people, supplanted the workers of the time, because by \\nthe use of machinery it was possible to produce commodities more quickly and'},\n",
       " {'documentID': 'e11ebce6-c481-4727-8b84-dfa8dfbef45f',\n",
       "  'content': 'has it ever occu rred to us to repudiate it.  \\n“Working men of all countries, unite! ” But few voices responded when we proclaimed these \\nwords  to the world 42 years ago, on the eve of the first Paris Revolution in which the proletariat \\ncame out with the demands of its own. On September 28, 1864, however, the proletarians of most of the Western European countries joined hands in the International  Working Men ’ s Association \\nof glorious memory. True, the International itself lived only nine years. But that the eternal union \\nof the proletarians of all countries created by it is still alive and lives stronger than ever, there is \\nno better witness than this day. Because today\\n3, as I write these lines, the European and American \\nproletariat is reviewing its fighting forces, mobilized for the first time, mobilized as one  army,'},\n",
       " {'documentID': '53b8ab22-e9c5-4d95-89e5-e5fcd2015e03',\n",
       "  'content': '19 Manifesto of the Communist Party \\nAt this stage, the labourers still form an incoherent mass scattered over the whole country, and \\nbroken up by their mutual competition. If anywhere they unite to form more compact bodies, this \\nis not yet the consequence of their own active union, but of the union of the bourgeoisie, which \\nclass, in order to attain its own political ends, is compelled to set the whole proletariat in motion, and is moreover yet, for a time, able to do so. At this stage, therefore, the proletarians do not fight \\ntheir enemies, but the enemies of their enemies, the remnants of absolute monarchy, the \\nlandowners, the non- industrial bourgeois, the petty bourgeois. Thus, the whole historical \\nmovement is concentrated in the hands of the bourgeoisie; every victo ry so obtained is a victory \\nfor the bourgeoisie.  \\nBut with the development of industry, the proletariat not only increases in number; it becomes'},\n",
       " {'documentID': '71bbfec8-d6c8-41ad-860c-101d850c069e',\n",
       "  'content': 'between proletariat and bourgeoisie (see Sectio n I. Bourgeois and Proletarians ).  \\nThe founders of these systems see, indeed, the class antagonisms, as well as the action of the \\ndecomposing elements in the prevailing form of society. But the proletariat, as yet in its infancy, \\noffers to them the spectac le of a class without any historical initiative or any independent political \\nmovement.  \\nSince the development of class antagonism keeps even pace with the development of industry, the \\neconomic situation, as they find it, does not as yet offer to them the m aterial conditions for the \\nemancipation of the proletariat. They therefore search after a new social science, after new social laws, that are to create these conditions.  \\nHistorical action is to yield to their personal inventive action; historically create d conditions of'},\n",
       " {'documentID': '1f11f8d0-7151-402b-a37c-b3e43a81ba7a',\n",
       "  'content': 'various stages of development which the struggle of the working class against the bourgeoisie has \\nto pass through, they always and everywhere represent the interests of the movement as a whole.  \\nThe Communists, therefore, are on the one hand, practically, the most advanced and resolute section of the working- class parties of every country, that section which pushes forward all \\nothers; on the other hand, theoretically, they have over the great mass of the proletariat the \\nadvantage of clearly understanding the line of march, the conditions, and the ultimate general \\nresults of the prole tarian movement.  \\nThe immediate aim of the Communists is the same as that of all other proletarian parties: formation of the proletariat into a class, overthrow of the bourgeois supremacy, conquest of \\npolitical power by the proletariat.  \\nThe theoretical co nclusions of the Communists are in no way based on ideas or principles that'},\n",
       " {'documentID': '210a2150-0555-4f98-8918-a40ff0039bb0',\n",
       "  'content': '42 Draft of a Communist Confession of Fa ith \\nThe Principles of Communism  \\n– 1 –  \\nWhat is Communism?  \\nCommuni sm is the doctrine of the conditions of the liberation of the proletariat.  \\n– 2 –  \\nWhat is the proletariat?  \\nThe proletariat is that class in society which lives entirely from the sale of its labor and does not \\ndraw profit from any kind of capital; whose we al and woe, whose life and death, whose sole \\nexistence depends on the demand for labor – hence, on the changing state of business, on the \\nvagaries of unbridled competition. The proletariat, or the class of proletarians, is, in a word, the \\nworking class of the 19th century.6  \\n– 3 –  \\nProletarians, then, have not always existed?  \\nNo. There have always been poor and working classes; and the working class have mostly been \\npoor. But there have not always been workers and poor people living under conditions as they  are \\ntoday; in other words, there have not always been proletarians, any more than there has always'},\n",
       " {'documentID': 'f30a1cd9-1292-4917-bff6-0d58a18383e3',\n",
       "  'content': '44 Draft of a Communist Confession of Fa ith \\nGradually, as manufacture developed, these journeymen became manufacturing workers who \\nwere even then employed by larger capitalists.  \\n– 7 –  \\nIn what way do proletarians differ from slaves?  \\nThe slave is sold once and for all; the pr oletarian must sell himself daily and hourly.  \\nThe individual slave, property of one master, is assured an existence, however miserable it may \\nbe, because of the master ’s interest. The individual proletarian, property as it were of the entire \\nbourgeois cla ss which buys his labor only when someone has need of it, has no secure existence. \\nThis existence is assured only to the class as a whole.  \\nThe slave is outside competition; the proletarian is in it and experiences all its vagaries.  \\nThe slave counts as a thing, not as a member of society. Thus, the slave can have a better \\nexistence than the proletarian, while the proletarian belongs to a higher stage of social'},\n",
       " {'documentID': 'd162d7e1-cbe7-4840-995b-2e024e436370',\n",
       "  'content': '27 Chapter II: Proletarians and Communists  \\npopulace over the country.  \\n10. Free education for all children in public schools. Abolition of children ’s \\nfactory labour in its present form. Combination of education with industrial \\nproduction, &c, &c.  \\nWhen, in the course of development, class distinctions have disappeared, and all production has \\nbeen concentrated in the hands of a vast association of the whole nation, the public power will \\nlose its political character. Political power, properly so called, is merely the organised power of \\none class for oppressing another. If the proletariat during its contest with the bourgeoisie is \\ncompelled, by the force of circumstances, to organise itself as a class, i f, by means of a \\nrevolution, it makes itself the ruling class, and, as such, sweeps away by force the old conditions'},\n",
       " {'documentID': 'c126e21e-f1b5-49a7-adef-f35c9b386352',\n",
       "  'content': 'deputies, by us ing their right to refuse to vote taxes, choose a bourgeois government.  \\nThird, everywhere the proletariat develops in step with the bourgeoisie. In proportion, as the \\nbourgeoisie grows in wealth, the proletariat grows in numbers. For, since the proletaria ns can be \\nemployed only by capital, and since capital extends only through employing labor, it follows that the growth of the proletariat proceeds at precisely the same pace as the growth of capital.  \\nSimultaneously, this process draws members of the bourg eoisie and proletarians together into the \\ngreat cities where industry can be carried on most profitably, and by thus throwing great masses \\nin one spot it gives to the proletarians a consciousness of their own strength.  \\nMoreover, the further this process a dvances, the more new labor -saving machines are invented,'},\n",
       " {'documentID': 'b4f99287-6ebb-43f7-bc64-1383aff66e41',\n",
       "  'content': 'fight against the bourgeoisie, to save from extinction their existence as fractions of the middle \\nclass. They are therefore not revolutionary, but conservative. Nay more, they are reaction ary, for \\nthey try to roll back the wheel of history. If by chance, they are revolutionary, they are only so in \\nview of their impending transfer into the proletariat; they thus defend not their present, but their \\nfuture interests, they desert their own stan dpoint to place themselves at that of the proletariat.  \\nThe “dangerous class ”, [lumpenproletariat ] the social scum, that passively rotting mass thrown \\noff by the lowest layers of the old society, may, here and there, be swept into the movement by a \\nproleta rian revolution; its conditions of life, however, prepare it far more for the part of a bribed \\ntool of reactionary intrigue.  \\nIn the condition of the proletariat, those of old society at large are already virtually swamped. The'},\n",
       " {'documentID': '375714c2-02da-4e19-b2ff-79c1a5230cb6',\n",
       "  'content': 'question, no matter what its degree of development at  the time.  \\nFinally, they labour everywhere for the union and agreement of the democratic parties of all \\ncountries.  \\nThe Communists disdain to conceal their views and aims. They openly declare that their ends can be attained only by the forcible overthrow of all existing social conditions. Let the ruling classes \\ntremble at a Communistic revolution. The proletarians have nothing to lose but their chains. They have a world to win.  \\nWorking Men of All Countries, Unite!\\n5 \\n \\n                                                      \\n* The party then represented in Parliament by Ledru -Rollin, in literature by Louis  Blanc, in the daily \\npress by the Réforme . The name of Social -Democracy signifies, with these its inventors, a section of \\nthe Democratic or Republican Party more or less tinged with socialism. [Engels, English Edition \\n1888]'}]"
      ]
     },
     "execution_count": 12,
     "metadata": {},
     "output_type": "execute_result"
    }
   ],
   "source": [
    "relevant_contexts"
   ]
  },
  {
   "cell_type": "markdown",
   "metadata": {},
   "source": [
    "## Chatbot"
   ]
  },
  {
   "cell_type": "code",
   "execution_count": 13,
   "metadata": {},
   "outputs": [],
   "source": [
    "groq_api_key = os.getenv('GROQ_API_KEY')"
   ]
  },
  {
   "cell_type": "code",
   "execution_count": 14,
   "metadata": {},
   "outputs": [],
   "source": [
    "from langchain_core.prompts import ChatPromptTemplate\n",
    "from langchain_groq import ChatGroq\n",
    "from langchain_community.llms import Ollama"
   ]
  },
  {
   "cell_type": "code",
   "execution_count": 15,
   "metadata": {},
   "outputs": [],
   "source": [
    "model = ChatGroq(model_name=\"mixtral-8x7b-32768\")"
   ]
  },
  {
   "cell_type": "code",
   "execution_count": 16,
   "metadata": {},
   "outputs": [],
   "source": [
    "from langchain_core.output_parsers import JsonOutputParser\n",
    "from langchain_core.prompts import PromptTemplate\n",
    "from langchain_core.pydantic_v1 import BaseModel, Field"
   ]
  },
  {
   "cell_type": "code",
   "execution_count": 17,
   "metadata": {},
   "outputs": [],
   "source": [
    "# Define your desired data structure.\n",
    "class ModelOutput(BaseModel):\n",
    "    response: str = Field(description=\"the response to the query\")\n",
    "    documentID: list[str] = Field(description=\"documentIDs of documents used to form response\")"
   ]
  },
  {
   "cell_type": "code",
   "execution_count": 18,
   "metadata": {},
   "outputs": [],
   "source": [
    "# Set up a parser + inject instructions into the prompt template.\n",
    "parser = JsonOutputParser(pydantic_object=ModelOutput)"
   ]
  },
  {
   "cell_type": "code",
   "execution_count": 19,
   "metadata": {},
   "outputs": [],
   "source": [
    "# Creating the prompt\n",
    "examples = [\n",
    "    {\"question\": \"Who is the current best F1 Driver?\", \n",
    "     \"context\": \"[{'documentID': '<Document ID>', 'file_path': '<File Path>', 'file_name': '<File Name>', 'page_number': '<Page Number>', 'embedding': '<Embedding>', 'score': '<Score>'}]\",\n",
    "     \"answer\": \"{'response': 'The current best F1 driver is Fernando Alonso', 'documentID': ['d381adfb-d0b6-46ef-8e00-1c44c90ac14b', 'd381adfb-d0b6-46ef-8e00-1c44c90ac39b']}\",\n",
    "    },\n",
    "    {\"question\": \"Name four F1 Drivers\", \n",
    "     \"context\": \"[{'documentID': '<Document ID>', 'file_path': '<File Path>', 'file_name': '<File Name>', 'page_number': '<Page Number>', 'embedding': '<Embedding>', 'score': '<Score>'}]\",\n",
    "     \"answer\": \"{'response': 'Four F1 drivers are:\\n Max Verstappen\\n Fernando Alonso\\n Lewis Hamilton\\n Charles LeClark', 'documentID': ['d381thfb-d0b6-46ef-8e00-1c44c90ac14b', 'd381adfb-d0b6-47sf-8e00-1c44c90ac39b']}\",\n",
    "    },\n",
    "    {\"question\": \"Who is the founder of Ferrari?\", \n",
    "     \"context\": \"[{'documentID': '<Document ID>', 'file_path': '<File Path>', 'file_name': '<File Name>', 'page_number': '<Page Number>', 'embedding': '<Embedding>', 'score': '<Score>'}]\",\n",
    "     \"answer\": \"{'response': 'I do not know the answer to your question', 'documentID': []}\",\n",
    "    },\n",
    "]"
   ]
  },
  {
   "cell_type": "code",
   "execution_count": 20,
   "metadata": {},
   "outputs": [],
   "source": [
    "bot_instructions = \"\"\"1. Respond with 'I do not know the answer to your question' if the relevant answer is not in the context\n",
    "                      2. Do not form answers on your own. If an answer is not found on the context reply with 'I do not know the answer to your question'\n",
    "                      3. Mention the documentIDs of the contexts where you fetched information from\n",
    "                      4. REMEMBER not to form answers of your own\n",
    "                      5. If the answer is not in the relevant context, keep citation as empty list\n",
    "                      6. You can include bullet points wherever necessary\n",
    "                      7. Give a detailed answer but only include information from the context provided\n",
    "                      8. Explaining the documentIDs is not required at all\n",
    "                      9. All your answer should go within 'response'. There should STRICTLY be no content after 'documentID' is mentioned\n",
    "                      10. Do not include information based on your own knowledge, reply with 'I do not know the answer to your question' if the answer is not in context\n",
    "\"\"\""
   ]
  },
  {
   "cell_type": "code",
   "execution_count": 21,
   "metadata": {},
   "outputs": [
    {
     "name": "stdout",
     "output_type": "stream",
     "text": [
      "Human: Who is the current best F1 Driver?\n",
      "[{'documentID': '<Document ID>', 'file_path': '<File Path>', 'file_name': '<File Name>', 'page_number': '<Page Number>', 'embedding': '<Embedding>', 'score': '<Score>'}]\n",
      "AI: {'response': 'The current best F1 driver is Fernando Alonso', 'documentID': ['d381adfb-d0b6-46ef-8e00-1c44c90ac14b', 'd381adfb-d0b6-46ef-8e00-1c44c90ac39b']}\n",
      "Human: Name four F1 Drivers\n",
      "[{'documentID': '<Document ID>', 'file_path': '<File Path>', 'file_name': '<File Name>', 'page_number': '<Page Number>', 'embedding': '<Embedding>', 'score': '<Score>'}]\n",
      "AI: {'response': 'Four F1 drivers are:\n",
      " Max Verstappen\n",
      " Fernando Alonso\n",
      " Lewis Hamilton\n",
      " Charles LeClark', 'documentID': ['d381thfb-d0b6-46ef-8e00-1c44c90ac14b', 'd381adfb-d0b6-47sf-8e00-1c44c90ac39b']}\n",
      "Human: Who is the founder of Ferrari?\n",
      "[{'documentID': '<Document ID>', 'file_path': '<File Path>', 'file_name': '<File Name>', 'page_number': '<Page Number>', 'embedding': '<Embedding>', 'score': '<Score>'}]\n",
      "AI: {'response': 'I do not know the answer to your question', 'documentID': []}\n"
     ]
    }
   ],
   "source": [
    "# This is a prompt template used to format each individual example.\n",
    "example_prompt = ChatPromptTemplate.from_messages(\n",
    "    [\n",
    "        (\"human\", \"{question}\\n{context}\"),\n",
    "        (\"ai\", \"{answer}\"),\n",
    "    ]\n",
    ")\n",
    "few_shot_prompt = FewShotChatMessagePromptTemplate(\n",
    "    example_prompt=example_prompt,\n",
    "    examples=examples,\n",
    ")\n",
    "\n",
    "print(few_shot_prompt.format())"
   ]
  },
  {
   "cell_type": "code",
   "execution_count": 22,
   "metadata": {},
   "outputs": [],
   "source": [
    "final_prompt = ChatPromptTemplate.from_messages(\n",
    "    [\n",
    "        (\"system\", \"You're an expert AI assistant specializing in advanced question answering.\\\n",
    "         Generate answers STRICTLY following the below instructions: \\n{bot_instructions}\\\n",
    "         The answer format should STRICTLY follow {format_instructions}\\\n",
    "         Do not add extra information outside of the format\"),\n",
    "        few_shot_prompt,\n",
    "        (\"human\", \"{question}\\n{context}\"),\n",
    "    ]\n",
    ")"
   ]
  },
  {
   "cell_type": "code",
   "execution_count": 30,
   "metadata": {},
   "outputs": [],
   "source": [
    "chain = final_prompt | model\n",
    "\n",
    "response = chain.invoke({\"question\": \"What is communism?\", \"context\": relevant_contexts, \"bot_instructions\": bot_instructions, \"format_instructions\": parser.get_format_instructions()})"
   ]
  },
  {
   "cell_type": "code",
   "execution_count": 31,
   "metadata": {},
   "outputs": [
    {
     "data": {
      "text/plain": [
       "\"{'response': 'Communism is a political and economic ideology that aims to create a classless, stateless society in which all property is publicly owned, and each person works and is paid according to their abilities and needs. It is based on the idea of common ownership and the elimination of social classes. Communism emphasizes social concern for all members of society rather than just the wealthy few. It is contrasted with capitalism, which is based on private or corporate ownership and operation for profit.', 'documentID': ['7d6d0282-eec7-4b73-9f13-3c20d97c233c', 'f93d0913-d16b-42c4-9373-8a6094e9f8f8', '04660687-8f11-48fe-a7db-875b52118dbb', '3dac08f8-5d94-41ee-b313-a77a2e34fe4d', 'd381adfb-d0b6-46ef-8e00-1c44c90ac14b', 'e11ebce6-c481-4727-8b84-dfa8dfbef45f', '53b8ab22-e9c5-4d95-89e5-e5fcd2015e03', '71bbfec8-d6c8-41ad-860c-101d850c069e', '1f11f8d0-7151-402b-a37c-b3e43a81ba7a', '210a2150-0555-4f98-8918-a40ff0039bb0', 'f30a1cd9-1292-4917-bff6-0d58a18383e3', 'd162d7e1-cbe7-4840-995b-2e024e436370', 'c126e21e-f1b5-49a7-adef-f35c9b386352', 'b4f99287-6ebb-43f7-bc64-1383aff66e41', '375714c2-02da-4e19-b2ff-79c1a5230cb6']}\""
      ]
     },
     "execution_count": 31,
     "metadata": {},
     "output_type": "execute_result"
    }
   ],
   "source": [
    "response.content"
   ]
  },
  {
   "cell_type": "code",
   "execution_count": 21,
   "metadata": {},
   "outputs": [],
   "source": [
    "# relevant_contexts"
   ]
  },
  {
   "cell_type": "code",
   "execution_count": null,
   "metadata": {},
   "outputs": [],
   "source": []
  },
  {
   "cell_type": "code",
   "execution_count": null,
   "metadata": {},
   "outputs": [],
   "source": []
  },
  {
   "cell_type": "code",
   "execution_count": null,
   "metadata": {},
   "outputs": [],
   "source": []
  },
  {
   "cell_type": "code",
   "execution_count": null,
   "metadata": {},
   "outputs": [],
   "source": []
  }
 ],
 "metadata": {
  "kernelspec": {
   "display_name": "venv",
   "language": "python",
   "name": "python3"
  },
  "language_info": {
   "codemirror_mode": {
    "name": "ipython",
    "version": 3
   },
   "file_extension": ".py",
   "mimetype": "text/x-python",
   "name": "python",
   "nbconvert_exporter": "python",
   "pygments_lexer": "ipython3",
   "version": "3.12.2"
  }
 },
 "nbformat": 4,
 "nbformat_minor": 2
}
