{
 "cells": [
  {
   "cell_type": "code",
   "execution_count": null,
   "metadata": {},
   "outputs": [],
   "source": [
    "import os\n",
    "\n",
    "from utilities.extraction import extraction\n",
    "from utilities.embedding import generate_embeddings, transform_data\n",
    "from utilities.ingestion import atlas_ingestion"
   ]
  },
  {
   "cell_type": "code",
   "execution_count": null,
   "metadata": {},
   "outputs": [],
   "source": [
    "# Name of the folder containing data\n",
    "data = \"manifesto\"\n",
    "\n",
    "# Extract data\n",
    "for file in os.listdir(data):\n",
    "    file_path = os.path.join(data, file)\n",
    "    extraction(input_file_path=file, output_file_path=\"extracted-data\")\n",
    "\n",
    "# Generate embedding and store with metadata\n",
    "transform_data(input_folder_path=\"extracted-data\", output_folder_path=\"embedded-data\")\n",
    "\n",
    "# Ingest into MongoDB Atlas\n",
    "atlas_ingestion(folder_path=\"embedded-data\")"
   ]
  },
  {
   "cell_type": "code",
   "execution_count": null,
   "metadata": {},
   "outputs": [],
   "source": []
  }
 ],
 "metadata": {
  "kernelspec": {
   "display_name": "venv",
   "language": "python",
   "name": "python3"
  },
  "language_info": {
   "codemirror_mode": {
    "name": "ipython",
    "version": 3
   },
   "file_extension": ".py",
   "mimetype": "text/x-python",
   "name": "python",
   "nbconvert_exporter": "python",
   "pygments_lexer": "ipython3",
   "version": "3.12.2"
  }
 },
 "nbformat": 4,
 "nbformat_minor": 2
}
