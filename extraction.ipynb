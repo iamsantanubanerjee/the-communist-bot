{
 "cells": [
  {
   "cell_type": "code",
   "execution_count": 1,
   "metadata": {},
   "outputs": [],
   "source": [
    "# !pip install langchain langchain-community streamlit pypdf"
   ]
  },
  {
   "cell_type": "code",
   "execution_count": 2,
   "metadata": {},
   "outputs": [],
   "source": [
    "import os\n",
    "import json\n",
    "\n",
    "from langchain_community.document_loaders import PyPDFLoader\n",
    "from langchain_text_splitters import RecursiveCharacterTextSplitter"
   ]
  },
  {
   "cell_type": "code",
   "execution_count": 3,
   "metadata": {},
   "outputs": [],
   "source": [
    "def extraction(file_path: str) -> None:\n",
    "\n",
    "    # Initialize an empty dictionary to store the key-value pairs for JSON\n",
    "    pages_dict = {}\n",
    "\n",
    "    directory_path = 'extracted-data'\n",
    "    file_name = os.path.splitext(os.path.basename(file_path))[0]\n",
    "\n",
    "    loader = PyPDFLoader(file_path)\n",
    "    pages = loader.load_and_split()  # Extracting pagewise Data\n",
    "\n",
    "    text_splitter = RecursiveCharacterTextSplitter(\n",
    "        chunk_size=1000, chunk_overlap=200, length_function=len, is_separator_regex=False)\n",
    "\n",
    "    for i, document in enumerate(pages):\n",
    "        split_result = text_splitter.split_text(\n",
    "            document.page_content)  # Chunking pagewise data\n",
    "\n",
    "        if \"{}\".format(document.metadata['page'] + 1) in pages_dict:\n",
    "            pages_dict[\"{}\".format(\n",
    "                document.metadata['page'] + 1)].extend(split_result)\n",
    "        else:\n",
    "            pages_dict[\"{}\".format(\n",
    "                document.metadata['page'] + 1)] = split_result\n",
    "\n",
    "    # Convert the dictionary to a JSON string\n",
    "    json_output = json.dumps(pages_dict, indent=4)\n",
    "\n",
    "    # Define the directory and file path where the JSON data will be stored\n",
    "    json_file_path = os.path.join(directory_path, file_name + '.json')\n",
    "\n",
    "    # Create the directory if it does not exist\n",
    "    os.makedirs(directory_path, exist_ok=True)\n",
    "\n",
    "    # Write the JSON string to a file\n",
    "    with open(json_file_path, 'w') as json_file:\n",
    "        json_file.write(json_output)"
   ]
  },
  {
   "cell_type": "code",
   "execution_count": 6,
   "metadata": {},
   "outputs": [],
   "source": [
    "data = \"manifesto\"\n",
    "for file in os.listdir(data):\n",
    "    file_path = os.path.join(data, file)\n",
    "    extraction(file_path)"
   ]
  },
  {
   "cell_type": "code",
   "execution_count": null,
   "metadata": {},
   "outputs": [],
   "source": []
  }
 ],
 "metadata": {
  "kernelspec": {
   "display_name": "venv",
   "language": "python",
   "name": "python3"
  },
  "language_info": {
   "codemirror_mode": {
    "name": "ipython",
    "version": 3
   },
   "file_extension": ".py",
   "mimetype": "text/x-python",
   "name": "python",
   "nbconvert_exporter": "python",
   "pygments_lexer": "ipython3",
   "version": "3.12.2"
  }
 },
 "nbformat": 4,
 "nbformat_minor": 2
}
